{
 "cells": [
  {
   "cell_type": "code",
   "execution_count": 7,
   "id": "bb2d71f4",
   "metadata": {},
   "outputs": [],
   "source": [
    "import pandas as pd\n",
    "\n",
    "import matplotlib.pyplot as plt\n",
    "\n",
    "from sklearn.cluster import KMeans"
   ]
  },
  {
   "cell_type": "code",
   "execution_count": 3,
   "id": "b6817a8b",
   "metadata": {},
   "outputs": [],
   "source": [
    "df=pd.read_csv('Mall_Customers.csv')"
   ]
  },
  {
   "cell_type": "code",
   "execution_count": 4,
   "id": "cc3b9b80",
   "metadata": {},
   "outputs": [
    {
     "data": {
      "text/html": [
       "<div>\n",
       "<style scoped>\n",
       "    .dataframe tbody tr th:only-of-type {\n",
       "        vertical-align: middle;\n",
       "    }\n",
       "\n",
       "    .dataframe tbody tr th {\n",
       "        vertical-align: top;\n",
       "    }\n",
       "\n",
       "    .dataframe thead th {\n",
       "        text-align: right;\n",
       "    }\n",
       "</style>\n",
       "<table border=\"1\" class=\"dataframe\">\n",
       "  <thead>\n",
       "    <tr style=\"text-align: right;\">\n",
       "      <th></th>\n",
       "      <th>CustomerID</th>\n",
       "      <th>Genre</th>\n",
       "      <th>Age</th>\n",
       "      <th>Annual Income (k$)</th>\n",
       "      <th>Spending Score (1-100)</th>\n",
       "    </tr>\n",
       "  </thead>\n",
       "  <tbody>\n",
       "    <tr>\n",
       "      <th>0</th>\n",
       "      <td>1</td>\n",
       "      <td>Male</td>\n",
       "      <td>19</td>\n",
       "      <td>15</td>\n",
       "      <td>39</td>\n",
       "    </tr>\n",
       "    <tr>\n",
       "      <th>1</th>\n",
       "      <td>2</td>\n",
       "      <td>Male</td>\n",
       "      <td>21</td>\n",
       "      <td>15</td>\n",
       "      <td>81</td>\n",
       "    </tr>\n",
       "    <tr>\n",
       "      <th>2</th>\n",
       "      <td>3</td>\n",
       "      <td>Female</td>\n",
       "      <td>20</td>\n",
       "      <td>16</td>\n",
       "      <td>6</td>\n",
       "    </tr>\n",
       "    <tr>\n",
       "      <th>3</th>\n",
       "      <td>4</td>\n",
       "      <td>Female</td>\n",
       "      <td>23</td>\n",
       "      <td>16</td>\n",
       "      <td>77</td>\n",
       "    </tr>\n",
       "    <tr>\n",
       "      <th>4</th>\n",
       "      <td>5</td>\n",
       "      <td>Female</td>\n",
       "      <td>31</td>\n",
       "      <td>17</td>\n",
       "      <td>40</td>\n",
       "    </tr>\n",
       "  </tbody>\n",
       "</table>\n",
       "</div>"
      ],
      "text/plain": [
       "   CustomerID   Genre  Age  Annual Income (k$)  Spending Score (1-100)\n",
       "0           1    Male   19                  15                      39\n",
       "1           2    Male   21                  15                      81\n",
       "2           3  Female   20                  16                       6\n",
       "3           4  Female   23                  16                      77\n",
       "4           5  Female   31                  17                      40"
      ]
     },
     "execution_count": 4,
     "metadata": {},
     "output_type": "execute_result"
    }
   ],
   "source": [
    "df.head()"
   ]
  },
  {
   "cell_type": "code",
   "execution_count": 5,
   "id": "e794a4e4",
   "metadata": {},
   "outputs": [],
   "source": [
    "X=df.iloc[:, [3,4]]"
   ]
  },
  {
   "cell_type": "code",
   "execution_count": 6,
   "id": "df280334",
   "metadata": {},
   "outputs": [
    {
     "data": {
      "text/html": [
       "<div>\n",
       "<style scoped>\n",
       "    .dataframe tbody tr th:only-of-type {\n",
       "        vertical-align: middle;\n",
       "    }\n",
       "\n",
       "    .dataframe tbody tr th {\n",
       "        vertical-align: top;\n",
       "    }\n",
       "\n",
       "    .dataframe thead th {\n",
       "        text-align: right;\n",
       "    }\n",
       "</style>\n",
       "<table border=\"1\" class=\"dataframe\">\n",
       "  <thead>\n",
       "    <tr style=\"text-align: right;\">\n",
       "      <th></th>\n",
       "      <th>Annual Income (k$)</th>\n",
       "      <th>Spending Score (1-100)</th>\n",
       "    </tr>\n",
       "  </thead>\n",
       "  <tbody>\n",
       "    <tr>\n",
       "      <th>0</th>\n",
       "      <td>15</td>\n",
       "      <td>39</td>\n",
       "    </tr>\n",
       "    <tr>\n",
       "      <th>1</th>\n",
       "      <td>15</td>\n",
       "      <td>81</td>\n",
       "    </tr>\n",
       "    <tr>\n",
       "      <th>2</th>\n",
       "      <td>16</td>\n",
       "      <td>6</td>\n",
       "    </tr>\n",
       "    <tr>\n",
       "      <th>3</th>\n",
       "      <td>16</td>\n",
       "      <td>77</td>\n",
       "    </tr>\n",
       "    <tr>\n",
       "      <th>4</th>\n",
       "      <td>17</td>\n",
       "      <td>40</td>\n",
       "    </tr>\n",
       "    <tr>\n",
       "      <th>...</th>\n",
       "      <td>...</td>\n",
       "      <td>...</td>\n",
       "    </tr>\n",
       "    <tr>\n",
       "      <th>195</th>\n",
       "      <td>120</td>\n",
       "      <td>79</td>\n",
       "    </tr>\n",
       "    <tr>\n",
       "      <th>196</th>\n",
       "      <td>126</td>\n",
       "      <td>28</td>\n",
       "    </tr>\n",
       "    <tr>\n",
       "      <th>197</th>\n",
       "      <td>126</td>\n",
       "      <td>74</td>\n",
       "    </tr>\n",
       "    <tr>\n",
       "      <th>198</th>\n",
       "      <td>137</td>\n",
       "      <td>18</td>\n",
       "    </tr>\n",
       "    <tr>\n",
       "      <th>199</th>\n",
       "      <td>137</td>\n",
       "      <td>83</td>\n",
       "    </tr>\n",
       "  </tbody>\n",
       "</table>\n",
       "<p>200 rows × 2 columns</p>\n",
       "</div>"
      ],
      "text/plain": [
       "     Annual Income (k$)  Spending Score (1-100)\n",
       "0                    15                      39\n",
       "1                    15                      81\n",
       "2                    16                       6\n",
       "3                    16                      77\n",
       "4                    17                      40\n",
       "..                  ...                     ...\n",
       "195                 120                      79\n",
       "196                 126                      28\n",
       "197                 126                      74\n",
       "198                 137                      18\n",
       "199                 137                      83\n",
       "\n",
       "[200 rows x 2 columns]"
      ]
     },
     "execution_count": 6,
     "metadata": {},
     "output_type": "execute_result"
    }
   ],
   "source": [
    "X"
   ]
  },
  {
   "cell_type": "code",
   "execution_count": 11,
   "id": "93235a10",
   "metadata": {},
   "outputs": [],
   "source": [
    "km=KMeans(n_clusters=5)\n",
    "y_pred=km.fit_predict(X)"
   ]
  },
  {
   "cell_type": "code",
   "execution_count": 12,
   "id": "aefe42ec",
   "metadata": {},
   "outputs": [],
   "source": [
    "df['Cluster']=y_pred"
   ]
  },
  {
   "cell_type": "code",
   "execution_count": 13,
   "id": "7f490bb0",
   "metadata": {},
   "outputs": [
    {
     "data": {
      "text/html": [
       "<div>\n",
       "<style scoped>\n",
       "    .dataframe tbody tr th:only-of-type {\n",
       "        vertical-align: middle;\n",
       "    }\n",
       "\n",
       "    .dataframe tbody tr th {\n",
       "        vertical-align: top;\n",
       "    }\n",
       "\n",
       "    .dataframe thead th {\n",
       "        text-align: right;\n",
       "    }\n",
       "</style>\n",
       "<table border=\"1\" class=\"dataframe\">\n",
       "  <thead>\n",
       "    <tr style=\"text-align: right;\">\n",
       "      <th></th>\n",
       "      <th>CustomerID</th>\n",
       "      <th>Genre</th>\n",
       "      <th>Age</th>\n",
       "      <th>Annual Income (k$)</th>\n",
       "      <th>Spending Score (1-100)</th>\n",
       "      <th>Cluster</th>\n",
       "    </tr>\n",
       "  </thead>\n",
       "  <tbody>\n",
       "    <tr>\n",
       "      <th>0</th>\n",
       "      <td>1</td>\n",
       "      <td>Male</td>\n",
       "      <td>19</td>\n",
       "      <td>15</td>\n",
       "      <td>39</td>\n",
       "      <td>4</td>\n",
       "    </tr>\n",
       "    <tr>\n",
       "      <th>1</th>\n",
       "      <td>2</td>\n",
       "      <td>Male</td>\n",
       "      <td>21</td>\n",
       "      <td>15</td>\n",
       "      <td>81</td>\n",
       "      <td>3</td>\n",
       "    </tr>\n",
       "    <tr>\n",
       "      <th>2</th>\n",
       "      <td>3</td>\n",
       "      <td>Female</td>\n",
       "      <td>20</td>\n",
       "      <td>16</td>\n",
       "      <td>6</td>\n",
       "      <td>4</td>\n",
       "    </tr>\n",
       "    <tr>\n",
       "      <th>3</th>\n",
       "      <td>4</td>\n",
       "      <td>Female</td>\n",
       "      <td>23</td>\n",
       "      <td>16</td>\n",
       "      <td>77</td>\n",
       "      <td>3</td>\n",
       "    </tr>\n",
       "    <tr>\n",
       "      <th>4</th>\n",
       "      <td>5</td>\n",
       "      <td>Female</td>\n",
       "      <td>31</td>\n",
       "      <td>17</td>\n",
       "      <td>40</td>\n",
       "      <td>4</td>\n",
       "    </tr>\n",
       "  </tbody>\n",
       "</table>\n",
       "</div>"
      ],
      "text/plain": [
       "   CustomerID   Genre  Age  Annual Income (k$)  Spending Score (1-100)  \\\n",
       "0           1    Male   19                  15                      39   \n",
       "1           2    Male   21                  15                      81   \n",
       "2           3  Female   20                  16                       6   \n",
       "3           4  Female   23                  16                      77   \n",
       "4           5  Female   31                  17                      40   \n",
       "\n",
       "   Cluster  \n",
       "0        4  \n",
       "1        3  \n",
       "2        4  \n",
       "3        3  \n",
       "4        4  "
      ]
     },
     "execution_count": 13,
     "metadata": {},
     "output_type": "execute_result"
    }
   ],
   "source": [
    "df.head()"
   ]
  },
  {
   "cell_type": "code",
   "execution_count": 14,
   "id": "f6e77b5e",
   "metadata": {},
   "outputs": [
    {
     "data": {
      "text/plain": [
       "array([4, 3, 1, 2, 0])"
      ]
     },
     "execution_count": 14,
     "metadata": {},
     "output_type": "execute_result"
    }
   ],
   "source": [
    "df['Cluster'].unique()"
   ]
  },
  {
   "cell_type": "code",
   "execution_count": 18,
   "id": "d3033869",
   "metadata": {},
   "outputs": [],
   "source": [
    "df1=df[df['Cluster']==4]\n",
    "df2=df[df['Cluster']==3]\n",
    "df3=df[df['Cluster']==2]\n",
    "df4=df[df['Cluster']==1]\n",
    "df5=df[df['Cluster']==0]"
   ]
  },
  {
   "cell_type": "code",
   "execution_count": 31,
   "id": "f79cf64b",
   "metadata": {},
   "outputs": [
    {
     "data": {
      "text/plain": [
       "<matplotlib.legend.Legend at 0x1b91588a7c0>"
      ]
     },
     "execution_count": 31,
     "metadata": {},
     "output_type": "execute_result"
    },
    {
     "data": {
      "image/png": "[encoded data removed]",
      "text/plain": [
       "<Figure size 432x288 with 1 Axes>"
      ]
     },
     "metadata": {
      "needs_background": "light"
     },
     "output_type": "display_data"
    }
   ],
   "source": [
    "plt.scatter(df1['Annual Income (k$)'], df1['Spending Score (1-100)'])\n",
    "plt.scatter(df2['Annual Income (k$)'], df2['Spending Score (1-100)'], color='red')\n",
    "plt.scatter(df3['Annual Income (k$)'], df3['Spending Score (1-100)'], color='yellow')\n",
    "plt.scatter(df4['Annual Income (k$)'], df4['Spending Score (1-100)'], color='green')\n",
    "plt.scatter(df5['Annual Income (k$)'], df5['Spending Score (1-100)'], color='pink')\n",
    "plt.scatter(km.cluster_centers_[:, 0], km.cluster_centers_[:, 1], s = 100, c = 'black', label = 'Centroids')\n",
    "plt.title('Clusters of customers')\n",
    "plt.xlabel('Annual Income (k$)')\n",
    "plt.ylabel('Spending Score (1-100)')\n",
    "plt.legend()"
   ]
  },
  {
   "cell_type": "markdown",
   "id": "cda0c9a2",
   "metadata": {},
   "source": [
    "### Preprocessing using MinMax"
   ]
  },
  {
   "cell_type": "code",
   "execution_count": 34,
   "id": "bac6d45e",
   "metadata": {},
   "outputs": [],
   "source": [
    "from sklearn.preprocessing import MinMaxScaler\n",
    "scalar=MinMaxScaler()\n",
    "scalar.fit(X)\n",
    "X=scalar.fit_transform(X)"
   ]
  },
  {
   "cell_type": "code",
   "execution_count": 35,
   "id": "99010d0a",
   "metadata": {},
   "outputs": [
    {
     "data": {
      "text/plain": [
       "array([[0.        , 0.3877551 ],\n",
       "       [0.        , 0.81632653],\n",
       "       [0.00819672, 0.05102041],\n",
       "       [0.00819672, 0.7755102 ],\n",
       "       [0.01639344, 0.39795918],\n",
       "       [0.01639344, 0.76530612],\n",
       "       [0.02459016, 0.05102041],\n",
       "       [0.02459016, 0.94897959],\n",
       "       [0.03278689, 0.02040816],\n",
       "       [0.03278689, 0.7244898 ],\n",
       "       [0.03278689, 0.13265306],\n",
       "       [0.03278689, 1.        ],\n",
       "       [0.04098361, 0.14285714],\n",
       "       [0.04098361, 0.7755102 ],\n",
       "       [0.04098361, 0.12244898],\n",
       "       [0.04098361, 0.79591837],\n",
       "       [0.04918033, 0.34693878],\n",
       "       [0.04918033, 0.66326531],\n",
       "       [0.06557377, 0.28571429],\n",
       "       [0.06557377, 0.98979592],\n",
       "       [0.07377049, 0.34693878],\n",
       "       [0.07377049, 0.73469388],\n",
       "       [0.08196721, 0.04081633],\n",
       "       [0.08196721, 0.73469388],\n",
       "       [0.10655738, 0.13265306],\n",
       "       [0.10655738, 0.82653061],\n",
       "       [0.10655738, 0.31632653],\n",
       "       [0.10655738, 0.6122449 ],\n",
       "       [0.1147541 , 0.30612245],\n",
       "       [0.1147541 , 0.87755102],\n",
       "       [0.12295082, 0.03061224],\n",
       "       [0.12295082, 0.73469388],\n",
       "       [0.14754098, 0.03061224],\n",
       "       [0.14754098, 0.92857143],\n",
       "       [0.14754098, 0.13265306],\n",
       "       [0.14754098, 0.81632653],\n",
       "       [0.1557377 , 0.16326531],\n",
       "       [0.1557377 , 0.73469388],\n",
       "       [0.18032787, 0.25510204],\n",
       "       [0.18032787, 0.75510204],\n",
       "       [0.18852459, 0.34693878],\n",
       "       [0.18852459, 0.92857143],\n",
       "       [0.19672131, 0.35714286],\n",
       "       [0.19672131, 0.6122449 ],\n",
       "       [0.19672131, 0.2755102 ],\n",
       "       [0.19672131, 0.65306122],\n",
       "       [0.20491803, 0.55102041],\n",
       "       [0.20491803, 0.46938776],\n",
       "       [0.20491803, 0.41836735],\n",
       "       [0.20491803, 0.41836735],\n",
       "       [0.22131148, 0.52040816],\n",
       "       [0.22131148, 0.60204082],\n",
       "       [0.2295082 , 0.54081633],\n",
       "       [0.2295082 , 0.60204082],\n",
       "       [0.2295082 , 0.44897959],\n",
       "       [0.2295082 , 0.40816327],\n",
       "       [0.23770492, 0.5       ],\n",
       "       [0.23770492, 0.45918367],\n",
       "       [0.25409836, 0.51020408],\n",
       "       [0.25409836, 0.45918367],\n",
       "       [0.25409836, 0.56122449],\n",
       "       [0.25409836, 0.55102041],\n",
       "       [0.26229508, 0.52040816],\n",
       "       [0.26229508, 0.59183673],\n",
       "       [0.2704918 , 0.51020408],\n",
       "       [0.2704918 , 0.59183673],\n",
       "       [0.2704918 , 0.5       ],\n",
       "       [0.2704918 , 0.47959184],\n",
       "       [0.2704918 , 0.59183673],\n",
       "       [0.2704918 , 0.46938776],\n",
       "       [0.27868852, 0.55102041],\n",
       "       [0.27868852, 0.41836735],\n",
       "       [0.28688525, 0.48979592],\n",
       "       [0.28688525, 0.56122449],\n",
       "       [0.31967213, 0.46938776],\n",
       "       [0.31967213, 0.54081633],\n",
       "       [0.31967213, 0.53061224],\n",
       "       [0.31967213, 0.47959184],\n",
       "       [0.31967213, 0.52040816],\n",
       "       [0.31967213, 0.41836735],\n",
       "       [0.31967213, 0.51020408],\n",
       "       [0.31967213, 0.55102041],\n",
       "       [0.31967213, 0.40816327],\n",
       "       [0.31967213, 0.43877551],\n",
       "       [0.31967213, 0.57142857],\n",
       "       [0.31967213, 0.45918367],\n",
       "       [0.3442623 , 0.58163265],\n",
       "       [0.3442623 , 0.55102041],\n",
       "       [0.35245902, 0.60204082],\n",
       "       [0.35245902, 0.45918367],\n",
       "       [0.36065574, 0.55102041],\n",
       "       [0.36065574, 0.40816327],\n",
       "       [0.36885246, 0.48979592],\n",
       "       [0.36885246, 0.39795918],\n",
       "       [0.36885246, 0.41836735],\n",
       "       [0.36885246, 0.52040816],\n",
       "       [0.36885246, 0.46938776],\n",
       "       [0.36885246, 0.5       ],\n",
       "       [0.37704918, 0.41836735],\n",
       "       [0.37704918, 0.48979592],\n",
       "       [0.3852459 , 0.40816327],\n",
       "       [0.3852459 , 0.47959184],\n",
       "       [0.3852459 , 0.59183673],\n",
       "       [0.3852459 , 0.55102041],\n",
       "       [0.3852459 , 0.56122449],\n",
       "       [0.3852459 , 0.41836735],\n",
       "       [0.39344262, 0.5       ],\n",
       "       [0.39344262, 0.45918367],\n",
       "       [0.39344262, 0.42857143],\n",
       "       [0.39344262, 0.47959184],\n",
       "       [0.39344262, 0.52040816],\n",
       "       [0.39344262, 0.54081633],\n",
       "       [0.40163934, 0.41836735],\n",
       "       [0.40163934, 0.45918367],\n",
       "       [0.40983607, 0.47959184],\n",
       "       [0.40983607, 0.5       ],\n",
       "       [0.40983607, 0.42857143],\n",
       "       [0.40983607, 0.59183673],\n",
       "       [0.42622951, 0.42857143],\n",
       "       [0.42622951, 0.57142857],\n",
       "       [0.42622951, 0.56122449],\n",
       "       [0.42622951, 0.39795918],\n",
       "       [0.44262295, 0.58163265],\n",
       "       [0.44262295, 0.91836735],\n",
       "       [0.45081967, 0.28571429],\n",
       "       [0.45081967, 0.7755102 ],\n",
       "       [0.45901639, 0.34693878],\n",
       "       [0.45901639, 0.95918367],\n",
       "       [0.45901639, 0.10204082],\n",
       "       [0.45901639, 0.75510204],\n",
       "       [0.45901639, 0.08163265],\n",
       "       [0.45901639, 0.75510204],\n",
       "       [0.46721311, 0.33673469],\n",
       "       [0.46721311, 0.71428571],\n",
       "       [0.47540984, 0.04081633],\n",
       "       [0.47540984, 0.8877551 ],\n",
       "       [0.47540984, 0.06122449],\n",
       "       [0.47540984, 0.73469388],\n",
       "       [0.48360656, 0.09183673],\n",
       "       [0.48360656, 0.7244898 ],\n",
       "       [0.49180328, 0.04081633],\n",
       "       [0.49180328, 0.93877551],\n",
       "       [0.5       , 0.39795918],\n",
       "       [0.5       , 0.87755102],\n",
       "       [0.50819672, 0.1122449 ],\n",
       "       [0.50819672, 0.97959184],\n",
       "       [0.50819672, 0.35714286],\n",
       "       [0.50819672, 0.74489796],\n",
       "       [0.51639344, 0.21428571],\n",
       "       [0.51639344, 0.90816327],\n",
       "       [0.51639344, 0.16326531],\n",
       "       [0.51639344, 0.8877551 ],\n",
       "       [0.51639344, 0.19387755],\n",
       "       [0.51639344, 0.76530612],\n",
       "       [0.51639344, 0.15306122],\n",
       "       [0.51639344, 0.89795918],\n",
       "       [0.51639344, 0.        ],\n",
       "       [0.51639344, 0.78571429],\n",
       "       [0.51639344, 0.        ],\n",
       "       [0.51639344, 0.73469388],\n",
       "       [0.52459016, 0.34693878],\n",
       "       [0.52459016, 0.83673469],\n",
       "       [0.54098361, 0.04081633],\n",
       "       [0.54098361, 0.93877551],\n",
       "       [0.57377049, 0.25510204],\n",
       "       [0.57377049, 0.75510204],\n",
       "       [0.58196721, 0.19387755],\n",
       "       [0.58196721, 0.95918367],\n",
       "       [0.59016393, 0.26530612],\n",
       "       [0.59016393, 0.63265306],\n",
       "       [0.59016393, 0.12244898],\n",
       "       [0.59016393, 0.75510204],\n",
       "       [0.59016393, 0.09183673],\n",
       "       [0.59016393, 0.92857143],\n",
       "       [0.59836066, 0.12244898],\n",
       "       [0.59836066, 0.86734694],\n",
       "       [0.59836066, 0.14285714],\n",
       "       [0.59836066, 0.69387755],\n",
       "       [0.63934426, 0.13265306],\n",
       "       [0.63934426, 0.90816327],\n",
       "       [0.67213115, 0.31632653],\n",
       "       [0.67213115, 0.86734694],\n",
       "       [0.68032787, 0.14285714],\n",
       "       [0.68032787, 0.8877551 ],\n",
       "       [0.68852459, 0.3877551 ],\n",
       "       [0.68852459, 0.97959184],\n",
       "       [0.70491803, 0.23469388],\n",
       "       [0.70491803, 0.68367347],\n",
       "       [0.72131148, 0.16326531],\n",
       "       [0.72131148, 0.85714286],\n",
       "       [0.72131148, 0.2244898 ],\n",
       "       [0.72131148, 0.69387755],\n",
       "       [0.80327869, 0.07142857],\n",
       "       [0.80327869, 0.91836735],\n",
       "       [0.86065574, 0.15306122],\n",
       "       [0.86065574, 0.79591837],\n",
       "       [0.90983607, 0.2755102 ],\n",
       "       [0.90983607, 0.74489796],\n",
       "       [1.        , 0.17346939],\n",
       "       [1.        , 0.83673469]])"
      ]
     },
     "execution_count": 35,
     "metadata": {},
     "output_type": "execute_result"
    }
   ],
   "source": [
    "X"
   ]
  },
  {
   "cell_type": "code",
   "execution_count": 37,
   "id": "4354957f",
   "metadata": {},
   "outputs": [],
   "source": [
    "km=KMeans(n_clusters=5)\n",
    "y_pred=km.fit_predict(X)"
   ]
  },
  {
   "cell_type": "code",
   "execution_count": 38,
   "id": "4b152ebd",
   "metadata": {},
   "outputs": [],
   "source": [
    "df1=df[df['Cluster']==4]\n",
    "df2=df[df['Cluster']==3]\n",
    "df3=df[df['Cluster']==2]\n",
    "df4=df[df['Cluster']==1]\n",
    "df5=df[df['Cluster']==0]"
   ]
  },
  {
   "cell_type": "code",
   "execution_count": 39,
   "id": "72194738",
   "metadata": {},
   "outputs": [
    {
     "data": {
      "text/plain": [
       "<matplotlib.legend.Legend at 0x1b916612ca0>"
      ]
     },
     "execution_count": 39,
     "metadata": {},
     "output_type": "execute_result"
    },
    {
     "data": {
      "image/png": "[encoded data removed]",
      "text/plain": [
       "<Figure size 432x288 with 1 Axes>"
      ]
     },
     "metadata": {
      "needs_background": "light"
     },
     "output_type": "display_data"
    }
   ],
   "source": [
    "plt.scatter(df1['Annual Income (k$)'], df1['Spending Score (1-100)'])\n",
    "plt.scatter(df2['Annual Income (k$)'], df2['Spending Score (1-100)'], color='red')\n",
    "plt.scatter(df3['Annual Income (k$)'], df3['Spending Score (1-100)'], color='yellow')\n",
    "plt.scatter(df4['Annual Income (k$)'], df4['Spending Score (1-100)'], color='green')\n",
    "plt.scatter(df5['Annual Income (k$)'], df5['Spending Score (1-100)'], color='pink')\n",
    "plt.scatter(km.cluster_centers_[:, 0], km.cluster_centers_[:, 1], s = 100, c = 'black', label = 'Centroids')\n",
    "plt.title('Clusters of customers')\n",
    "plt.xlabel('Annual Income (k$)')\n",
    "plt.ylabel('Spending Score (1-100)')\n",
    "plt.legend()"
   ]
  },
  {
   "cell_type": "markdown",
   "id": "410e09af",
   "metadata": {},
   "source": [
    "### Expriement Failed"
   ]
  },
  {
   "cell_type": "markdown",
   "id": "1bdcb481",
   "metadata": {},
   "source": [
    "### Elbow Method to find the optimal number of  Clustering"
   ]
  },
  {
   "cell_type": "code",
   "execution_count": 40,
   "id": "d39456ac",
   "metadata": {},
   "outputs": [
    {
     "name": "stderr",
     "output_type": "stream",
     "text": [
      "C:\\Users\\DELL\\anaconda3\\lib\\site-packages\\sklearn\\cluster\\_kmeans.py:1036: UserWarning: KMeans is known to have a memory leak on Windows with MKL, when there are less chunks than available threads. You can avoid it by setting the environment variable OMP_NUM_THREADS=1.\n",
      "  warnings.warn(\n"
     ]
    }
   ],
   "source": [
    "wsse=[]\n",
    "\n",
    "for i in range(1,11):\n",
    "    km=KMeans(n_clusters=i)\n",
    "    km.fit(X)\n",
    "    wsse.append(km.inertia_)\n",
    "    "
   ]
  },
  {
   "cell_type": "code",
   "execution_count": 42,
   "id": "6ad01471",
   "metadata": {},
   "outputs": [
    {
     "data": {
      "image/png": "[encoded data removed]",
      "text/plain": [
       "<Figure size 432x288 with 1 Axes>"
      ]
     },
     "metadata": {
      "needs_background": "light"
     },
     "output_type": "display_data"
    }
   ],
   "source": [
    "plt.plot(range(1,11), wsse)\n",
    "plt.title('The Elbow Method')\n",
    "plt.xlabel('Number of clusters')\n",
    "plt.ylabel('WCSS')\n",
    "plt.show()"
   ]
  },
  {
   "cell_type": "code",
   "execution_count": null,
   "id": "943e730a",
   "metadata": {},
   "outputs": [],
   "source": []
  }
 ],
 "metadata": {
  "kernelspec": {
   "display_name": "Python 3 (ipykernel)",
   "language": "python",
   "name": "python3"
  },
  "language_info": {
   "codemirror_mode": {
    "name": "ipython",
    "version": 3
   },
   "file_extension": ".py",
   "mimetype": "text/x-python",
   "name": "python",
   "nbconvert_exporter": "python",
   "pygments_lexer": "ipython3",
   "version": "3.9.12"
  }
 },
 "nbformat": 4,
 "nbformat_minor": 5
}
